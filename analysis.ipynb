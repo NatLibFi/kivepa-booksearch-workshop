{
 "cells": [
  {
   "cell_type": "code",
   "execution_count": 1,
   "metadata": {},
   "outputs": [],
   "source": [
    "import sqlite3\n",
    "import pandas as pd\n",
    "import matplotlib.pyplot as plt"
   ]
  },
  {
   "cell_type": "markdown",
   "metadata": {},
   "source": [
    "## Read database"
   ]
  },
  {
   "cell_type": "code",
   "execution_count": 30,
   "metadata": {},
   "outputs": [
    {
     "data": {
      "text/html": [
       "<div>\n",
       "<style scoped>\n",
       "    .dataframe tbody tr th:only-of-type {\n",
       "        vertical-align: middle;\n",
       "    }\n",
       "\n",
       "    .dataframe tbody tr th {\n",
       "        vertical-align: top;\n",
       "    }\n",
       "\n",
       "    .dataframe thead th {\n",
       "        text-align: right;\n",
       "    }\n",
       "</style>\n",
       "<table border=\"1\" class=\"dataframe\">\n",
       "  <thead>\n",
       "    <tr style=\"text-align: right;\">\n",
       "      <th></th>\n",
       "      <th>id</th>\n",
       "      <th>title</th>\n",
       "      <th>authors</th>\n",
       "      <th>year</th>\n",
       "      <th>isbn</th>\n",
       "      <th>is_found</th>\n",
       "      <th>labels_set</th>\n",
       "      <th>search_count</th>\n",
       "      <th>search_terms</th>\n",
       "      <th>search_begin_time_utc</th>\n",
       "      <th>search_end_time_utc</th>\n",
       "      <th>search_abandon_time_utc</th>\n",
       "      <th>uid</th>\n",
       "    </tr>\n",
       "  </thead>\n",
       "  <tbody>\n",
       "    <tr>\n",
       "      <th>0</th>\n",
       "      <td>1</td>\n",
       "      <td>Epätavallinen lukija</td>\n",
       "      <td></td>\n",
       "      <td>NaN</td>\n",
       "      <td>NaN</td>\n",
       "      <td>0</td>\n",
       "      <td>a</td>\n",
       "      <td>5</td>\n",
       "      <td>None</td>\n",
       "      <td>2023-09-15T12:43:19.266Z</td>\n",
       "      <td>None</td>\n",
       "      <td>2023-09-15T12:46:26.156Z</td>\n",
       "      <td>14baaffb-7b19-4af2-80c2-7e1f2e819d8e</td>\n",
       "    </tr>\n",
       "    <tr>\n",
       "      <th>1</th>\n",
       "      <td>2</td>\n",
       "      <td>Jane Austen -lukupiiri</td>\n",
       "      <td>Fowler, Karen Joy</td>\n",
       "      <td>2005.0</td>\n",
       "      <td>9.789512e+12</td>\n",
       "      <td>1</td>\n",
       "      <td>a</td>\n",
       "      <td>3</td>\n",
       "      <td>lukeminen, ihmissuhteet,</td>\n",
       "      <td>2023-09-15T12:43:19.266Z</td>\n",
       "      <td>2023-09-15T12:51:24.937Z</td>\n",
       "      <td>None</td>\n",
       "      <td>14baaffb-7b19-4af2-80c2-7e1f2e819d8e</td>\n",
       "    </tr>\n",
       "    <tr>\n",
       "      <th>2</th>\n",
       "      <td>3</td>\n",
       "      <td>Liian meluisa yksinäisyys</td>\n",
       "      <td>Hrabal, Bohumil</td>\n",
       "      <td>2008.0</td>\n",
       "      <td>9.789512e+12</td>\n",
       "      <td>1</td>\n",
       "      <td>a</td>\n",
       "      <td>4</td>\n",
       "      <td>kirjat, paperinkeräys,</td>\n",
       "      <td>2023-09-15T12:43:19.266Z</td>\n",
       "      <td>2023-09-15T13:02:26.617Z</td>\n",
       "      <td>None</td>\n",
       "      <td>14baaffb-7b19-4af2-80c2-7e1f2e819d8e</td>\n",
       "    </tr>\n",
       "    <tr>\n",
       "      <th>3</th>\n",
       "      <td>4</td>\n",
       "      <td>Elämän mittainen lukupiiri</td>\n",
       "      <td></td>\n",
       "      <td>NaN</td>\n",
       "      <td>NaN</td>\n",
       "      <td>0</td>\n",
       "      <td>a</td>\n",
       "      <td>9</td>\n",
       "      <td>None</td>\n",
       "      <td>2023-09-15T13:05:20.090Z</td>\n",
       "      <td>None</td>\n",
       "      <td>2023-09-15T13:07:22.046Z</td>\n",
       "      <td>14baaffb-7b19-4af2-80c2-7e1f2e819d8e</td>\n",
       "    </tr>\n",
       "    <tr>\n",
       "      <th>4</th>\n",
       "      <td>5</td>\n",
       "      <td>Kenkähullun matka</td>\n",
       "      <td>Arvola, Oiva</td>\n",
       "      <td>2005.0</td>\n",
       "      <td>9.789512e+12</td>\n",
       "      <td>1</td>\n",
       "      <td>a</td>\n",
       "      <td>4</td>\n",
       "      <td>jalkineet,</td>\n",
       "      <td>2023-09-15T13:22:22.305Z</td>\n",
       "      <td>2023-09-15T13:24:47.479Z</td>\n",
       "      <td>None</td>\n",
       "      <td>14baaffb-7b19-4af2-80c2-7e1f2e819d8e</td>\n",
       "    </tr>\n",
       "  </tbody>\n",
       "</table>\n",
       "</div>"
      ],
      "text/plain": [
       "   id                       title            authors    year          isbn  \\\n",
       "0   1        Epätavallinen lukija                        NaN           NaN   \n",
       "1   2      Jane Austen -lukupiiri  Fowler, Karen Joy  2005.0  9.789512e+12   \n",
       "2   3   Liian meluisa yksinäisyys    Hrabal, Bohumil  2008.0  9.789512e+12   \n",
       "3   4  Elämän mittainen lukupiiri                        NaN           NaN   \n",
       "4   5           Kenkähullun matka       Arvola, Oiva  2005.0  9.789512e+12   \n",
       "\n",
       "   is_found labels_set  search_count               search_terms  \\\n",
       "0         0          a             5                       None   \n",
       "1         1          a             3  lukeminen, ihmissuhteet,    \n",
       "2         1          a             4    kirjat, paperinkeräys,    \n",
       "3         0          a             9                       None   \n",
       "4         1          a             4                jalkineet,    \n",
       "\n",
       "      search_begin_time_utc       search_end_time_utc  \\\n",
       "0  2023-09-15T12:43:19.266Z                      None   \n",
       "1  2023-09-15T12:43:19.266Z  2023-09-15T12:51:24.937Z   \n",
       "2  2023-09-15T12:43:19.266Z  2023-09-15T13:02:26.617Z   \n",
       "3  2023-09-15T13:05:20.090Z                      None   \n",
       "4  2023-09-15T13:22:22.305Z  2023-09-15T13:24:47.479Z   \n",
       "\n",
       "    search_abandon_time_utc                                   uid  \n",
       "0  2023-09-15T12:46:26.156Z  14baaffb-7b19-4af2-80c2-7e1f2e819d8e  \n",
       "1                      None  14baaffb-7b19-4af2-80c2-7e1f2e819d8e  \n",
       "2                      None  14baaffb-7b19-4af2-80c2-7e1f2e819d8e  \n",
       "3  2023-09-15T13:07:22.046Z  14baaffb-7b19-4af2-80c2-7e1f2e819d8e  \n",
       "4                      None  14baaffb-7b19-4af2-80c2-7e1f2e819d8e  "
      ]
     },
     "execution_count": 30,
     "metadata": {},
     "output_type": "execute_result"
    }
   ],
   "source": [
    "dbfile = 'os-sqlite3-data/database.db'\n",
    "table_name = 'selected_books'\n",
    "query = f\"SELECT * FROM {table_name}\"\n",
    "with sqlite3.connect(dbfile) as connection:\n",
    "    df = pd.read_sql_query(query, connection)\n",
    "df.head()"
   ]
  },
  {
   "cell_type": "code",
   "execution_count": 31,
   "metadata": {},
   "outputs": [
    {
     "data": {
      "text/plain": [
       "Index(['id', 'title', 'authors', 'year', 'isbn', 'is_found', 'labels_set',\n",
       "       'search_count', 'search_terms', 'search_begin_time_utc',\n",
       "       'search_end_time_utc', 'search_abandon_time_utc', 'uid'],\n",
       "      dtype='object')"
      ]
     },
     "execution_count": 31,
     "metadata": {},
     "output_type": "execute_result"
    }
   ],
   "source": [
    "df.columns"
   ]
  },
  {
   "cell_type": "code",
   "execution_count": 32,
   "metadata": {},
   "outputs": [],
   "source": [
    "# Convert timestamps in string format to datetime\n",
    "df['search_begin_time_utc'] = pd.to_datetime(df['search_begin_time_utc'])\n",
    "df['search_end_time_utc'] = pd.to_datetime(df['search_end_time_utc'])\n",
    "df['search_abandon_time_utc'] = pd.to_datetime(df['search_abandon_time_utc'])\n",
    "\n",
    "# Calculate durations in seconds\n",
    "df['duration_to_find'] = (df['search_end_time_utc'] - df['search_begin_time_utc']).dt.total_seconds()\n",
    "df['duration_to_abandon'] = (df['search_abandon_time_utc'] - df['search_begin_time_utc']).dt.total_seconds()"
   ]
  },
  {
   "cell_type": "markdown",
   "metadata": {},
   "source": [
    "## Results"
   ]
  },
  {
   "cell_type": "code",
   "execution_count": 41,
   "metadata": {},
   "outputs": [
    {
     "data": {
      "text/plain": [
       "uid       2\n",
       "title    18\n",
       "dtype: int64"
      ]
     },
     "execution_count": 41,
     "metadata": {},
     "output_type": "execute_result"
    }
   ],
   "source": [
    "df[['uid', 'title']].nunique()"
   ]
  },
  {
   "cell_type": "code",
   "execution_count": 34,
   "metadata": {},
   "outputs": [
    {
     "data": {
      "text/html": [
       "<div>\n",
       "<style scoped>\n",
       "    .dataframe tbody tr th:only-of-type {\n",
       "        vertical-align: middle;\n",
       "    }\n",
       "\n",
       "    .dataframe tbody tr th {\n",
       "        vertical-align: top;\n",
       "    }\n",
       "\n",
       "    .dataframe thead th {\n",
       "        text-align: right;\n",
       "    }\n",
       "</style>\n",
       "<table border=\"1\" class=\"dataframe\">\n",
       "  <thead>\n",
       "    <tr style=\"text-align: right;\">\n",
       "      <th></th>\n",
       "      <th>is_found</th>\n",
       "      <th>search_count</th>\n",
       "    </tr>\n",
       "    <tr>\n",
       "      <th>labels_set</th>\n",
       "      <th></th>\n",
       "      <th></th>\n",
       "    </tr>\n",
       "  </thead>\n",
       "  <tbody>\n",
       "    <tr>\n",
       "      <th>a</th>\n",
       "      <td>10</td>\n",
       "      <td>47</td>\n",
       "    </tr>\n",
       "    <tr>\n",
       "      <th>b</th>\n",
       "      <td>6</td>\n",
       "      <td>58</td>\n",
       "    </tr>\n",
       "  </tbody>\n",
       "</table>\n",
       "</div>"
      ],
      "text/plain": [
       "            is_found  search_count\n",
       "labels_set                        \n",
       "a                 10            47\n",
       "b                  6            58"
      ]
     },
     "execution_count": 34,
     "metadata": {},
     "output_type": "execute_result"
    }
   ],
   "source": [
    "df.groupby(by='labels_set')[['is_found', 'search_count']].sum()"
   ]
  },
  {
   "cell_type": "code",
   "execution_count": 35,
   "metadata": {},
   "outputs": [
    {
     "data": {
      "text/html": [
       "<div>\n",
       "<style scoped>\n",
       "    .dataframe tbody tr th:only-of-type {\n",
       "        vertical-align: middle;\n",
       "    }\n",
       "\n",
       "    .dataframe tbody tr th {\n",
       "        vertical-align: top;\n",
       "    }\n",
       "\n",
       "    .dataframe thead th {\n",
       "        text-align: right;\n",
       "    }\n",
       "</style>\n",
       "<table border=\"1\" class=\"dataframe\">\n",
       "  <thead>\n",
       "    <tr style=\"text-align: right;\">\n",
       "      <th></th>\n",
       "      <th>is_found</th>\n",
       "      <th>duration_to_find</th>\n",
       "      <th>duration_to_abandon</th>\n",
       "      <th>search_count</th>\n",
       "    </tr>\n",
       "    <tr>\n",
       "      <th>labels_set</th>\n",
       "      <th></th>\n",
       "      <th></th>\n",
       "      <th></th>\n",
       "      <th></th>\n",
       "    </tr>\n",
       "  </thead>\n",
       "  <tbody>\n",
       "    <tr>\n",
       "      <th>a</th>\n",
       "      <td>0.588235</td>\n",
       "      <td>425.5691</td>\n",
       "      <td>289.9870</td>\n",
       "      <td>2.764706</td>\n",
       "    </tr>\n",
       "    <tr>\n",
       "      <th>b</th>\n",
       "      <td>0.333333</td>\n",
       "      <td>679.6615</td>\n",
       "      <td>362.9915</td>\n",
       "      <td>3.222222</td>\n",
       "    </tr>\n",
       "  </tbody>\n",
       "</table>\n",
       "</div>"
      ],
      "text/plain": [
       "            is_found  duration_to_find  duration_to_abandon  search_count\n",
       "labels_set                                                               \n",
       "a           0.588235          425.5691             289.9870      2.764706\n",
       "b           0.333333          679.6615             362.9915      3.222222"
      ]
     },
     "execution_count": 35,
     "metadata": {},
     "output_type": "execute_result"
    }
   ],
   "source": [
    "df.groupby(by='labels_set')[['is_found', 'duration_to_find', 'duration_to_abandon', 'search_count']].mean()"
   ]
  },
  {
   "cell_type": "code",
   "execution_count": 36,
   "metadata": {},
   "outputs": [
    {
     "data": {
      "image/png": "[encoded data removed]",
      "text/plain": [
       "<Figure size 1000x500 with 2 Axes>"
      ]
     },
     "metadata": {},
     "output_type": "display_data"
    }
   ],
   "source": [
    "# Create a subplot with two histograms\n",
    "plt.figure(figsize=(10, 5))  # Adjust the figure size as needed\n",
    "bins = list(range(0, 300, 20))\n",
    "\n",
    "# Subplot for 'labels_set' == 'a'\n",
    "plt.subplot(1, 2, 1)  # 1 row, 2 columns, first subplot\n",
    "df[df.labels_set == 'a'].duration_to_find.hist()  # bins=bins)\n",
    "plt.xlabel('Search Duration (seconds)')\n",
    "plt.ylabel('Searches')\n",
    "plt.title('Labels A')\n",
    "\n",
    "# Subplot for 'labels_set' == 'b'\n",
    "plt.subplot(1, 2, 2)  # 1 row, 2 columns, second subplot\n",
    "df[df.labels_set == 'b'].duration_to_find.hist() # bins=bins)\n",
    "plt.xlabel('Search Duration (seconds)')\n",
    "plt.ylabel('Searches')\n",
    "plt.title('Labels B')\n",
    "\n",
    "plt.suptitle('Histogram of duration of successful book searches')\n",
    "plt.tight_layout()  # Adjusts subplot parameters for better spacing\n",
    "plt.show()"
   ]
  },
  {
   "cell_type": "code",
   "execution_count": 37,
   "metadata": {},
   "outputs": [
    {
     "data": {
      "image/png": "[encoded data removed]",
      "text/plain": [
       "<Figure size 1000x500 with 2 Axes>"
      ]
     },
     "metadata": {},
     "output_type": "display_data"
    }
   ],
   "source": [
    "# Create a subplot with two histograms\n",
    "plt.figure(figsize=(10, 5))  # Adjust the figure size as needed\n",
    "# bins = list(range(0, 300, 20))\n",
    "\n",
    "# Subplot for 'labels_set' == 'a'\n",
    "plt.subplot(1, 2, 1)  # 1 row, 2 columns, first subplot\n",
    "df[(df.labels_set == 'a')].search_count.hist()  # bins=bins)\n",
    "df[(df.labels_set == 'a') & (df.is_found)].search_count.hist()  # bins=bins)\n",
    "plt.xlabel('Search Count')\n",
    "plt.ylabel('Searches')\n",
    "plt.title('Labels A')\n",
    "\n",
    "# Subplot for 'labels_set' == 'b'\n",
    "plt.subplot(1, 2, 2)  # 1 row, 2 columns, second subplot\n",
    "df[df.labels_set == 'b'].search_count.hist()  # bins=bins)\n",
    "df[(df.labels_set == 'b') & (df.is_found)].search_count.hist()  # bins=bins)\n",
    "plt.xlabel('Search Count')\n",
    "plt.ylabel('Searches')\n",
    "plt.title('Labels B')\n",
    "\n",
    "plt.suptitle('Histogram of search_count of book searches')\n",
    "plt.tight_layout()  # Adjusts subplot parameters for better spacing\n",
    "plt.show()"
   ]
  },
  {
   "cell_type": "code",
   "execution_count": 38,
   "metadata": {},
   "outputs": [
    {
     "data": {
      "text/html": [
       "<div>\n",
       "<style scoped>\n",
       "    .dataframe tbody tr th:only-of-type {\n",
       "        vertical-align: middle;\n",
       "    }\n",
       "\n",
       "    .dataframe tbody tr th {\n",
       "        vertical-align: top;\n",
       "    }\n",
       "\n",
       "    .dataframe thead th {\n",
       "        text-align: right;\n",
       "    }\n",
       "</style>\n",
       "<table border=\"1\" class=\"dataframe\">\n",
       "  <thead>\n",
       "    <tr style=\"text-align: right;\">\n",
       "      <th></th>\n",
       "      <th>is_found</th>\n",
       "      <th>duration_to_find</th>\n",
       "      <th>duration_to_abandon</th>\n",
       "    </tr>\n",
       "    <tr>\n",
       "      <th>labels_set</th>\n",
       "      <th></th>\n",
       "      <th></th>\n",
       "      <th></th>\n",
       "    </tr>\n",
       "  </thead>\n",
       "  <tbody>\n",
       "    <tr>\n",
       "      <th>a</th>\n",
       "      <td>0.588235</td>\n",
       "      <td>425.5691</td>\n",
       "      <td>289.9870</td>\n",
       "    </tr>\n",
       "    <tr>\n",
       "      <th>b</th>\n",
       "      <td>0.333333</td>\n",
       "      <td>679.6615</td>\n",
       "      <td>362.9915</td>\n",
       "    </tr>\n",
       "  </tbody>\n",
       "</table>\n",
       "</div>"
      ],
      "text/plain": [
       "            is_found  duration_to_find  duration_to_abandon\n",
       "labels_set                                                 \n",
       "a           0.588235          425.5691             289.9870\n",
       "b           0.333333          679.6615             362.9915"
      ]
     },
     "execution_count": 38,
     "metadata": {},
     "output_type": "execute_result"
    }
   ],
   "source": [
    "df.groupby(by='labels_set').agg({\n",
    "    \"is_found\": 'mean',\n",
    "    \"duration_to_find\": 'mean',\n",
    "    \"duration_to_abandon\": 'mean',})"
   ]
  }
 ],
 "metadata": {
  "kernelspec": {
   "display_name": "venv",
   "language": "python",
   "name": "python3"
  },
  "language_info": {
   "codemirror_mode": {
    "name": "ipython",
    "version": 3
   },
   "file_extension": ".py",
   "mimetype": "text/x-python",
   "name": "python",
   "nbconvert_exporter": "python",
   "pygments_lexer": "ipython3",
   "version": "3.8.10"
  },
  "orig_nbformat": 4
 },
 "nbformat": 4,
 "nbformat_minor": 2
}
