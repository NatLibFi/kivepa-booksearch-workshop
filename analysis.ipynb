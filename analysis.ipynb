{
 "cells": [
  {
   "cell_type": "code",
   "execution_count": 1,
   "metadata": {},
   "outputs": [],
   "source": [
    "import sqlite3\n",
    "import pandas as pd\n",
    "import matplotlib.pyplot as plt"
   ]
  },
  {
   "cell_type": "markdown",
   "metadata": {},
   "source": [
    "## Read database"
   ]
  },
  {
   "cell_type": "code",
   "execution_count": 2,
   "metadata": {},
   "outputs": [],
   "source": [
    "dbfile = \"os-sqlite3-data/database.db\"\n",
    "table_name = \"searched_books\"\n",
    "query = f\"SELECT * FROM {table_name}\"\n",
    "with sqlite3.connect(dbfile) as connection:\n",
    "    df = pd.read_sql_query(query, connection)"
   ]
  },
  {
   "cell_type": "code",
   "execution_count": 3,
   "metadata": {},
   "outputs": [
    {
     "data": {
      "text/plain": [
       "Index(['id', 'title', 'authors', 'is_found_a', 'is_found_b', 'search_count_a',\n",
       "       'search_count_b', 'search_terms_a', 'search_terms_b',\n",
       "       'search_begin_time_utc', 'found_time_utc_a', 'found_time_utc_b',\n",
       "       'search_end_time_utc', 'uid'],\n",
       "      dtype='object')"
      ]
     },
     "execution_count": 3,
     "metadata": {},
     "output_type": "execute_result"
    }
   ],
   "source": [
    "df.columns"
   ]
  },
  {
   "cell_type": "code",
   "execution_count": 4,
   "metadata": {},
   "outputs": [
    {
     "data": {
      "text/html": [
       "<div>\n",
       "<style scoped>\n",
       "    .dataframe tbody tr th:only-of-type {\n",
       "        vertical-align: middle;\n",
       "    }\n",
       "\n",
       "    .dataframe tbody tr th {\n",
       "        vertical-align: top;\n",
       "    }\n",
       "\n",
       "    .dataframe thead th {\n",
       "        text-align: right;\n",
       "    }\n",
       "</style>\n",
       "<table border=\"1\" class=\"dataframe\">\n",
       "  <thead>\n",
       "    <tr style=\"text-align: right;\">\n",
       "      <th></th>\n",
       "      <th>id</th>\n",
       "      <th>title</th>\n",
       "      <th>authors</th>\n",
       "      <th>is_found_a</th>\n",
       "      <th>is_found_b</th>\n",
       "      <th>search_count_a</th>\n",
       "      <th>search_count_b</th>\n",
       "      <th>search_terms_a</th>\n",
       "      <th>search_terms_b</th>\n",
       "      <th>search_begin_time_utc</th>\n",
       "      <th>found_time_utc_a</th>\n",
       "      <th>found_time_utc_b</th>\n",
       "      <th>search_end_time_utc</th>\n",
       "      <th>uid</th>\n",
       "      <th>duration_to_find_a</th>\n",
       "      <th>duration_to_find_b</th>\n",
       "      <th>duration_to_proceed</th>\n",
       "    </tr>\n",
       "  </thead>\n",
       "  <tbody>\n",
       "    <tr>\n",
       "      <th>0</th>\n",
       "      <td>1</td>\n",
       "      <td>Päiväkirjani</td>\n",
       "      <td>Mäkinen, Mikael</td>\n",
       "      <td>True</td>\n",
       "      <td>False</td>\n",
       "      <td>1</td>\n",
       "      <td>None</td>\n",
       "      <td>ADHD,</td>\n",
       "      <td>None</td>\n",
       "      <td>2023-09-26 14:28:11.036000+00:00</td>\n",
       "      <td>2023-09-26 14:28:30.046000+00:00</td>\n",
       "      <td>NaT</td>\n",
       "      <td>2023-09-26 14:28:31.106000+00:00</td>\n",
       "      <td>b4b8a394-32cf-4a9e-bbc2-f924869ea454</td>\n",
       "      <td>19.01</td>\n",
       "      <td>NaN</td>\n",
       "      <td>20.070</td>\n",
       "    </tr>\n",
       "    <tr>\n",
       "      <th>1</th>\n",
       "      <td>2</td>\n",
       "      <td>Kipukynnys</td>\n",
       "      <td>Rantala, Raija-Sinikka</td>\n",
       "      <td>True</td>\n",
       "      <td>True</td>\n",
       "      <td>1</td>\n",
       "      <td>1</td>\n",
       "      <td>naiset,</td>\n",
       "      <td>naiset,</td>\n",
       "      <td>2023-09-26 14:28:46.116000+00:00</td>\n",
       "      <td>2023-09-26 14:29:00.776000+00:00</td>\n",
       "      <td>2023-09-26 14:29:03.649000+00:00</td>\n",
       "      <td>2023-09-26 14:29:05.668000+00:00</td>\n",
       "      <td>b4b8a394-32cf-4a9e-bbc2-f924869ea454</td>\n",
       "      <td>14.66</td>\n",
       "      <td>17.533</td>\n",
       "      <td>19.552</td>\n",
       "    </tr>\n",
       "    <tr>\n",
       "      <th>2</th>\n",
       "      <td>3</td>\n",
       "      <td>Sirimaan salaisuus</td>\n",
       "      <td>Tervo, Mari-Pauliina</td>\n",
       "      <td>False</td>\n",
       "      <td>True</td>\n",
       "      <td>None</td>\n",
       "      <td>1</td>\n",
       "      <td>None</td>\n",
       "      <td>mielikuvitus,</td>\n",
       "      <td>2023-09-26 14:29:35.999000+00:00</td>\n",
       "      <td>NaT</td>\n",
       "      <td>2023-09-26 14:29:46.157000+00:00</td>\n",
       "      <td>2023-09-26 14:29:58.749000+00:00</td>\n",
       "      <td>b4b8a394-32cf-4a9e-bbc2-f924869ea454</td>\n",
       "      <td>NaN</td>\n",
       "      <td>10.158</td>\n",
       "      <td>22.750</td>\n",
       "    </tr>\n",
       "    <tr>\n",
       "      <th>3</th>\n",
       "      <td>4</td>\n",
       "      <td>Ryhmä Hau: Pentupoppoo</td>\n",
       "      <td>Martínez, Liliana</td>\n",
       "      <td>False</td>\n",
       "      <td>True</td>\n",
       "      <td>None</td>\n",
       "      <td>1</td>\n",
       "      <td>None</td>\n",
       "      <td>harrastukset,</td>\n",
       "      <td>2023-09-26 14:30:17.406000+00:00</td>\n",
       "      <td>NaT</td>\n",
       "      <td>2023-09-26 14:30:26.157000+00:00</td>\n",
       "      <td>2023-09-26 14:30:30.281000+00:00</td>\n",
       "      <td>b4b8a394-32cf-4a9e-bbc2-f924869ea454</td>\n",
       "      <td>NaN</td>\n",
       "      <td>8.751</td>\n",
       "      <td>12.875</td>\n",
       "    </tr>\n",
       "    <tr>\n",
       "      <th>4</th>\n",
       "      <td>5</td>\n",
       "      <td>Kuolleen silmät ja muita kauhukertomuksia</td>\n",
       "      <td>Waltari, Mika</td>\n",
       "      <td>False</td>\n",
       "      <td>True</td>\n",
       "      <td>None</td>\n",
       "      <td>2</td>\n",
       "      <td>None</td>\n",
       "      <td>kauhukirjallisuus,</td>\n",
       "      <td>2023-09-26 14:31:30.185000+00:00</td>\n",
       "      <td>NaT</td>\n",
       "      <td>2023-09-26 14:31:57.792000+00:00</td>\n",
       "      <td>2023-09-26 14:32:53.090000+00:00</td>\n",
       "      <td>b4b8a394-32cf-4a9e-bbc2-f924869ea454</td>\n",
       "      <td>NaN</td>\n",
       "      <td>27.607</td>\n",
       "      <td>82.905</td>\n",
       "    </tr>\n",
       "  </tbody>\n",
       "</table>\n",
       "</div>"
      ],
      "text/plain": [
       "   id                                      title                 authors  \\\n",
       "0   1                               Päiväkirjani         Mäkinen, Mikael   \n",
       "1   2                                 Kipukynnys  Rantala, Raija-Sinikka   \n",
       "2   3                         Sirimaan salaisuus    Tervo, Mari-Pauliina   \n",
       "3   4                     Ryhmä Hau: Pentupoppoo       Martínez, Liliana   \n",
       "4   5  Kuolleen silmät ja muita kauhukertomuksia           Waltari, Mika   \n",
       "\n",
       "   is_found_a  is_found_b search_count_a search_count_b search_terms_a  \\\n",
       "0        True       False              1           None         ADHD,    \n",
       "1        True        True              1              1       naiset,    \n",
       "2       False        True           None              1           None   \n",
       "3       False        True           None              1           None   \n",
       "4       False        True           None              2           None   \n",
       "\n",
       "        search_terms_b            search_begin_time_utc  \\\n",
       "0                 None 2023-09-26 14:28:11.036000+00:00   \n",
       "1             naiset,  2023-09-26 14:28:46.116000+00:00   \n",
       "2       mielikuvitus,  2023-09-26 14:29:35.999000+00:00   \n",
       "3       harrastukset,  2023-09-26 14:30:17.406000+00:00   \n",
       "4  kauhukirjallisuus,  2023-09-26 14:31:30.185000+00:00   \n",
       "\n",
       "                  found_time_utc_a                 found_time_utc_b  \\\n",
       "0 2023-09-26 14:28:30.046000+00:00                              NaT   \n",
       "1 2023-09-26 14:29:00.776000+00:00 2023-09-26 14:29:03.649000+00:00   \n",
       "2                              NaT 2023-09-26 14:29:46.157000+00:00   \n",
       "3                              NaT 2023-09-26 14:30:26.157000+00:00   \n",
       "4                              NaT 2023-09-26 14:31:57.792000+00:00   \n",
       "\n",
       "               search_end_time_utc                                   uid  \\\n",
       "0 2023-09-26 14:28:31.106000+00:00  b4b8a394-32cf-4a9e-bbc2-f924869ea454   \n",
       "1 2023-09-26 14:29:05.668000+00:00  b4b8a394-32cf-4a9e-bbc2-f924869ea454   \n",
       "2 2023-09-26 14:29:58.749000+00:00  b4b8a394-32cf-4a9e-bbc2-f924869ea454   \n",
       "3 2023-09-26 14:30:30.281000+00:00  b4b8a394-32cf-4a9e-bbc2-f924869ea454   \n",
       "4 2023-09-26 14:32:53.090000+00:00  b4b8a394-32cf-4a9e-bbc2-f924869ea454   \n",
       "\n",
       "   duration_to_find_a  duration_to_find_b  duration_to_proceed  \n",
       "0               19.01                 NaN               20.070  \n",
       "1               14.66              17.533               19.552  \n",
       "2                 NaN              10.158               22.750  \n",
       "3                 NaN               8.751               12.875  \n",
       "4                 NaN              27.607               82.905  "
      ]
     },
     "execution_count": 4,
     "metadata": {},
     "output_type": "execute_result"
    }
   ],
   "source": [
    "# Convert missing values and booleans\n",
    "df.replace(\"undefined\", None, inplace=True)\n",
    "df[[\"is_found_a\", \"is_found_b\"]] = df[[\"is_found_a\", \"is_found_b\"]].replace(\n",
    "    \"true\", True\n",
    ")  # , inplace=True)\n",
    "df[[\"is_found_a\", \"is_found_b\"]] = df[[\"is_found_a\", \"is_found_b\"]].replace(\n",
    "    \"false\", False\n",
    ")  # , inplace=True)\n",
    "\n",
    "# Convert timestamps in string format to datetime\n",
    "df[\"search_begin_time_utc\"] = pd.to_datetime(df[\"search_begin_time_utc\"])\n",
    "df[\"search_end_time_utc\"] = pd.to_datetime(df[\"search_end_time_utc\"])\n",
    "df[\"found_time_utc_a\"] = pd.to_datetime(df[\"found_time_utc_a\"])\n",
    "df[\"found_time_utc_b\"] = pd.to_datetime(df[\"found_time_utc_b\"])\n",
    "\n",
    "# Calculate durations in seconds\n",
    "df[\"duration_to_find_a\"] = (\n",
    "    df[\"found_time_utc_a\"] - df[\"search_begin_time_utc\"]\n",
    ").dt.total_seconds()\n",
    "df[\"duration_to_find_b\"] = (\n",
    "    df[\"found_time_utc_b\"] - df[\"search_begin_time_utc\"]\n",
    ").dt.total_seconds()\n",
    "df[\"duration_to_proceed\"] = (\n",
    "    df[\"search_end_time_utc\"] - df[\"search_begin_time_utc\"]\n",
    ").dt.total_seconds()\n",
    "\n",
    "df.head()"
   ]
  },
  {
   "cell_type": "markdown",
   "metadata": {},
   "source": [
    "## Results"
   ]
  },
  {
   "cell_type": "code",
   "execution_count": 5,
   "metadata": {},
   "outputs": [
    {
     "data": {
      "text/plain": [
       "uid       2\n",
       "title    20\n",
       "dtype: int64"
      ]
     },
     "execution_count": 5,
     "metadata": {},
     "output_type": "execute_result"
    }
   ],
   "source": [
    "df[[\"uid\", \"title\"]].nunique()"
   ]
  },
  {
   "cell_type": "code",
   "execution_count": 6,
   "metadata": {},
   "outputs": [
    {
     "data": {
      "text/plain": [
       "is_found_a        13\n",
       "is_found_b        12\n",
       "search_count_a    20\n",
       "search_count_b    15\n",
       "dtype: object"
      ]
     },
     "execution_count": 6,
     "metadata": {},
     "output_type": "execute_result"
    }
   ],
   "source": [
    "df[[\"is_found_a\", \"is_found_b\", \"search_count_a\", \"search_count_b\"]].sum()"
   ]
  },
  {
   "cell_type": "code",
   "execution_count": 7,
   "metadata": {},
   "outputs": [
    {
     "data": {
      "text/plain": [
       "is_found_a                 0.65\n",
       "is_found_b                  0.6\n",
       "search_count_a         1.538462\n",
       "search_count_b             1.25\n",
       "duration_to_find_a    31.355385\n",
       "duration_to_find_b    20.630833\n",
       "dtype: object"
      ]
     },
     "execution_count": 7,
     "metadata": {},
     "output_type": "execute_result"
    }
   ],
   "source": [
    "# search_count_X is the number of searches performed when a book is selected\n",
    "df[\n",
    "    [\n",
    "        \"is_found_a\",\n",
    "        \"is_found_b\",\n",
    "        \"search_count_a\",\n",
    "        \"search_count_b\",\n",
    "        \"duration_to_find_a\",\n",
    "        \"duration_to_find_b\",\n",
    "    ]\n",
    "].mean()"
   ]
  },
  {
   "cell_type": "code",
   "execution_count": 8,
   "metadata": {},
   "outputs": [
    {
     "ename": "AttributeError",
     "evalue": "'DataFrame' object has no attribute 'labels_set'",
     "output_type": "error",
     "traceback": [
      "\u001b[0;31m---------------------------------------------------------------------------\u001b[0m",
      "\u001b[0;31mAttributeError\u001b[0m                            Traceback (most recent call last)",
      "\u001b[0;32m/tmp/ipykernel_305449/3650524325.py\u001b[0m in \u001b[0;36m?\u001b[0;34m()\u001b[0m\n\u001b[0;32m----> 9\u001b[0;31m \u001b[0;31m### TODO: Need adjust\u001b[0m\u001b[0;34m\u001b[0m\u001b[0;34m\u001b[0m\u001b[0;34m\u001b[0m\u001b[0m\n\u001b[0m\u001b[1;32m     10\u001b[0m \u001b[0;34m\u001b[0m\u001b[0m\n\u001b[1;32m     11\u001b[0m \u001b[0;31m# Create a subplot with two histograms\u001b[0m\u001b[0;34m\u001b[0m\u001b[0;34m\u001b[0m\u001b[0;34m\u001b[0m\u001b[0m\n\u001b[1;32m     12\u001b[0m \u001b[0mplt\u001b[0m\u001b[0;34m.\u001b[0m\u001b[0mfigure\u001b[0m\u001b[0;34m(\u001b[0m\u001b[0mfigsize\u001b[0m\u001b[0;34m=\u001b[0m\u001b[0;34m(\u001b[0m\u001b[0;36m10\u001b[0m\u001b[0;34m,\u001b[0m \u001b[0;36m5\u001b[0m\u001b[0;34m)\u001b[0m\u001b[0;34m)\u001b[0m  \u001b[0;31m# Adjust the figure size as needed\u001b[0m\u001b[0;34m\u001b[0m\u001b[0;34m\u001b[0m\u001b[0m\n",
      "\u001b[0;32m/home/local/jmminkin/git/kivepa-booksearch-workshop/venv/lib/python3.8/site-packages/pandas/core/generic.py\u001b[0m in \u001b[0;36m?\u001b[0;34m(self, name)\u001b[0m\n\u001b[1;32m   5985\u001b[0m             \u001b[0;32mand\u001b[0m \u001b[0mname\u001b[0m \u001b[0;32mnot\u001b[0m \u001b[0;32min\u001b[0m \u001b[0mself\u001b[0m\u001b[0;34m.\u001b[0m\u001b[0m_accessors\u001b[0m\u001b[0;34m\u001b[0m\u001b[0;34m\u001b[0m\u001b[0m\n\u001b[1;32m   5986\u001b[0m             \u001b[0;32mand\u001b[0m \u001b[0mself\u001b[0m\u001b[0;34m.\u001b[0m\u001b[0m_info_axis\u001b[0m\u001b[0;34m.\u001b[0m\u001b[0m_can_hold_identifiers_and_holds_name\u001b[0m\u001b[0;34m(\u001b[0m\u001b[0mname\u001b[0m\u001b[0;34m)\u001b[0m\u001b[0;34m\u001b[0m\u001b[0;34m\u001b[0m\u001b[0m\n\u001b[1;32m   5987\u001b[0m         ):\n\u001b[1;32m   5988\u001b[0m             \u001b[0;32mreturn\u001b[0m \u001b[0mself\u001b[0m\u001b[0;34m[\u001b[0m\u001b[0mname\u001b[0m\u001b[0;34m]\u001b[0m\u001b[0;34m\u001b[0m\u001b[0;34m\u001b[0m\u001b[0m\n\u001b[0;32m-> 5989\u001b[0;31m         \u001b[0;32mreturn\u001b[0m \u001b[0mobject\u001b[0m\u001b[0;34m.\u001b[0m\u001b[0m__getattribute__\u001b[0m\u001b[0;34m(\u001b[0m\u001b[0mself\u001b[0m\u001b[0;34m,\u001b[0m \u001b[0mname\u001b[0m\u001b[0;34m)\u001b[0m\u001b[0;34m\u001b[0m\u001b[0;34m\u001b[0m\u001b[0m\n\u001b[0m",
      "\u001b[0;31mAttributeError\u001b[0m: 'DataFrame' object has no attribute 'labels_set'"
     ]
    },
    {
     "data": {
      "image/png": "[encoded data removed]",
      "text/plain": [
       "<Figure size 1000x500 with 1 Axes>"
      ]
     },
     "metadata": {},
     "output_type": "display_data"
    }
   ],
   "source": [
    "### TODO: Need adjust\n",
    "\n",
    "# Create a subplot with two histograms\n",
    "plt.figure(figsize=(10, 5))  # Adjust the figure size as needed\n",
    "bins = list(range(0, 300, 20))\n",
    "\n",
    "# Subplot for 'labels_set' == 'a'\n",
    "plt.subplot(1, 2, 1)  # 1 row, 2 columns, first subplot\n",
    "df[df.labels_set == \"a\"].duration_to_find.hist()  # bins=bins)\n",
    "plt.xlabel(\"Search Duration (seconds)\")\n",
    "plt.ylabel(\"Searches\")\n",
    "plt.title(\"Labels A\")\n",
    "\n",
    "# Subplot for 'labels_set' == 'b'\n",
    "plt.subplot(1, 2, 2)  # 1 row, 2 columns, second subplot\n",
    "df[df.labels_set == \"b\"].duration_to_find.hist()  # bins=bins)\n",
    "plt.xlabel(\"Search Duration (seconds)\")\n",
    "plt.ylabel(\"Searches\")\n",
    "plt.title(\"Labels B\")\n",
    "\n",
    "plt.suptitle(\"Histogram of duration of successful book searches\")\n",
    "plt.tight_layout()  # Adjusts subplot parameters for better spacing\n",
    "plt.show()"
   ]
  },
  {
   "cell_type": "code",
   "execution_count": 9,
   "metadata": {},
   "outputs": [
    {
     "ename": "AttributeError",
     "evalue": "'DataFrame' object has no attribute 'labels_set'",
     "output_type": "error",
     "traceback": [
      "\u001b[0;31m---------------------------------------------------------------------------\u001b[0m",
      "\u001b[0;31mAttributeError\u001b[0m                            Traceback (most recent call last)",
      "\u001b[0;32m/tmp/ipykernel_305449/1437184035.py\u001b[0m in \u001b[0;36m?\u001b[0;34m()\u001b[0m\n\u001b[0;32m----> 7\u001b[0;31m \u001b[0;31m# Create a subplot with two histograms\u001b[0m\u001b[0;34m\u001b[0m\u001b[0;34m\u001b[0m\u001b[0;34m\u001b[0m\u001b[0m\n\u001b[0m\u001b[1;32m      8\u001b[0m \u001b[0mplt\u001b[0m\u001b[0;34m.\u001b[0m\u001b[0mfigure\u001b[0m\u001b[0;34m(\u001b[0m\u001b[0mfigsize\u001b[0m\u001b[0;34m=\u001b[0m\u001b[0;34m(\u001b[0m\u001b[0;36m10\u001b[0m\u001b[0;34m,\u001b[0m \u001b[0;36m5\u001b[0m\u001b[0;34m)\u001b[0m\u001b[0;34m)\u001b[0m  \u001b[0;31m# Adjust the figure size as needed\u001b[0m\u001b[0;34m\u001b[0m\u001b[0;34m\u001b[0m\u001b[0m\n\u001b[1;32m      9\u001b[0m \u001b[0;31m# bins = list(range(0, 300, 20))\u001b[0m\u001b[0;34m\u001b[0m\u001b[0;34m\u001b[0m\u001b[0;34m\u001b[0m\u001b[0m\n\u001b[1;32m     10\u001b[0m \u001b[0;34m\u001b[0m\u001b[0m\n",
      "\u001b[0;32m/home/local/jmminkin/git/kivepa-booksearch-workshop/venv/lib/python3.8/site-packages/pandas/core/generic.py\u001b[0m in \u001b[0;36m?\u001b[0;34m(self, name)\u001b[0m\n\u001b[1;32m   5985\u001b[0m             \u001b[0;32mand\u001b[0m \u001b[0mname\u001b[0m \u001b[0;32mnot\u001b[0m \u001b[0;32min\u001b[0m \u001b[0mself\u001b[0m\u001b[0;34m.\u001b[0m\u001b[0m_accessors\u001b[0m\u001b[0;34m\u001b[0m\u001b[0;34m\u001b[0m\u001b[0m\n\u001b[1;32m   5986\u001b[0m             \u001b[0;32mand\u001b[0m \u001b[0mself\u001b[0m\u001b[0;34m.\u001b[0m\u001b[0m_info_axis\u001b[0m\u001b[0;34m.\u001b[0m\u001b[0m_can_hold_identifiers_and_holds_name\u001b[0m\u001b[0;34m(\u001b[0m\u001b[0mname\u001b[0m\u001b[0;34m)\u001b[0m\u001b[0;34m\u001b[0m\u001b[0;34m\u001b[0m\u001b[0m\n\u001b[1;32m   5987\u001b[0m         ):\n\u001b[1;32m   5988\u001b[0m             \u001b[0;32mreturn\u001b[0m \u001b[0mself\u001b[0m\u001b[0;34m[\u001b[0m\u001b[0mname\u001b[0m\u001b[0;34m]\u001b[0m\u001b[0;34m\u001b[0m\u001b[0;34m\u001b[0m\u001b[0m\n\u001b[0;32m-> 5989\u001b[0;31m         \u001b[0;32mreturn\u001b[0m \u001b[0mobject\u001b[0m\u001b[0;34m.\u001b[0m\u001b[0m__getattribute__\u001b[0m\u001b[0;34m(\u001b[0m\u001b[0mself\u001b[0m\u001b[0;34m,\u001b[0m \u001b[0mname\u001b[0m\u001b[0;34m)\u001b[0m\u001b[0;34m\u001b[0m\u001b[0;34m\u001b[0m\u001b[0m\n\u001b[0m",
      "\u001b[0;31mAttributeError\u001b[0m: 'DataFrame' object has no attribute 'labels_set'"
     ]
    },
    {
     "data": {
      "image/png": "[encoded data removed]",
      "text/plain": [
       "<Figure size 1000x500 with 1 Axes>"
      ]
     },
     "metadata": {},
     "output_type": "display_data"
    }
   ],
   "source": [
    "# Create a subplot with two histograms\n",
    "plt.figure(figsize=(10, 5))  # Adjust the figure size as needed\n",
    "# bins = list(range(0, 300, 20))\n",
    "\n",
    "# Subplot for 'labels_set' == 'a'\n",
    "plt.subplot(1, 2, 1)  # 1 row, 2 columns, first subplot\n",
    "df[(df.labels_set == \"a\")].search_count.hist()  # bins=bins)\n",
    "df[(df.labels_set == \"a\") & (df.is_found)].search_count.hist()  # bins=bins)\n",
    "plt.xlabel(\"Search Count\")\n",
    "plt.ylabel(\"Searches\")\n",
    "plt.title(\"Labels A\")\n",
    "\n",
    "# Subplot for 'labels_set' == 'b'\n",
    "plt.subplot(1, 2, 2)  # 1 row, 2 columns, second subplot\n",
    "df[df.labels_set == \"b\"].search_count.hist()  # bins=bins)\n",
    "df[(df.labels_set == \"b\") & (df.is_found)].search_count.hist()  # bins=bins)\n",
    "plt.xlabel(\"Search Count\")\n",
    "plt.ylabel(\"Searches\")\n",
    "plt.title(\"Labels B\")\n",
    "\n",
    "plt.suptitle(\"Histogram of search_count of book searches\")\n",
    "plt.tight_layout()  # Adjusts subplot parameters for better spacing\n",
    "plt.show()"
   ]
  },
  {
   "cell_type": "code",
   "execution_count": 10,
   "metadata": {},
   "outputs": [
    {
     "ename": "KeyError",
     "evalue": "'labels_set'",
     "output_type": "error",
     "traceback": [
      "\u001b[0;31m---------------------------------------------------------------------------\u001b[0m",
      "\u001b[0;31mKeyError\u001b[0m                                  Traceback (most recent call last)",
      "\u001b[1;32m/home/local/jmminkin/git/kivepa-booksearch-workshop/analysis.ipynb Cell 12\u001b[0m line \u001b[0;36m1\n\u001b[0;32m----> <a href='vscode-notebook-cell:/home/local/jmminkin/git/kivepa-booksearch-workshop/analysis.ipynb#X63sZmlsZQ%3D%3D?line=0'>1</a>\u001b[0m df\u001b[39m.\u001b[39;49mgroupby(by\u001b[39m=\u001b[39;49m\u001b[39m\"\u001b[39;49m\u001b[39mlabels_set\u001b[39;49m\u001b[39m\"\u001b[39;49m)\u001b[39m.\u001b[39magg(\n\u001b[1;32m      <a href='vscode-notebook-cell:/home/local/jmminkin/git/kivepa-booksearch-workshop/analysis.ipynb#X63sZmlsZQ%3D%3D?line=1'>2</a>\u001b[0m     {\n\u001b[1;32m      <a href='vscode-notebook-cell:/home/local/jmminkin/git/kivepa-booksearch-workshop/analysis.ipynb#X63sZmlsZQ%3D%3D?line=2'>3</a>\u001b[0m         \u001b[39m\"\u001b[39m\u001b[39mis_found\u001b[39m\u001b[39m\"\u001b[39m: \u001b[39m\"\u001b[39m\u001b[39mmean\u001b[39m\u001b[39m\"\u001b[39m,\n\u001b[1;32m      <a href='vscode-notebook-cell:/home/local/jmminkin/git/kivepa-booksearch-workshop/analysis.ipynb#X63sZmlsZQ%3D%3D?line=3'>4</a>\u001b[0m         \u001b[39m\"\u001b[39m\u001b[39mduration_to_find\u001b[39m\u001b[39m\"\u001b[39m: \u001b[39m\"\u001b[39m\u001b[39mmean\u001b[39m\u001b[39m\"\u001b[39m,\n\u001b[1;32m      <a href='vscode-notebook-cell:/home/local/jmminkin/git/kivepa-booksearch-workshop/analysis.ipynb#X63sZmlsZQ%3D%3D?line=4'>5</a>\u001b[0m         \u001b[39m\"\u001b[39m\u001b[39mduration_to_abandon\u001b[39m\u001b[39m\"\u001b[39m: \u001b[39m\"\u001b[39m\u001b[39mmean\u001b[39m\u001b[39m\"\u001b[39m,\n\u001b[1;32m      <a href='vscode-notebook-cell:/home/local/jmminkin/git/kivepa-booksearch-workshop/analysis.ipynb#X63sZmlsZQ%3D%3D?line=5'>6</a>\u001b[0m     }\n\u001b[1;32m      <a href='vscode-notebook-cell:/home/local/jmminkin/git/kivepa-booksearch-workshop/analysis.ipynb#X63sZmlsZQ%3D%3D?line=6'>7</a>\u001b[0m )\n",
      "File \u001b[0;32m/home/local/jmminkin/git/kivepa-booksearch-workshop/venv/lib/python3.8/site-packages/pandas/core/frame.py:8252\u001b[0m, in \u001b[0;36mDataFrame.groupby\u001b[0;34m(self, by, axis, level, as_index, sort, group_keys, observed, dropna)\u001b[0m\n\u001b[1;32m   8249\u001b[0m     \u001b[39mraise\u001b[39;00m \u001b[39mTypeError\u001b[39;00m(\u001b[39m\"\u001b[39m\u001b[39mYou have to supply one of \u001b[39m\u001b[39m'\u001b[39m\u001b[39mby\u001b[39m\u001b[39m'\u001b[39m\u001b[39m and \u001b[39m\u001b[39m'\u001b[39m\u001b[39mlevel\u001b[39m\u001b[39m'\u001b[39m\u001b[39m\"\u001b[39m)\n\u001b[1;32m   8250\u001b[0m axis \u001b[39m=\u001b[39m \u001b[39mself\u001b[39m\u001b[39m.\u001b[39m_get_axis_number(axis)\n\u001b[0;32m-> 8252\u001b[0m \u001b[39mreturn\u001b[39;00m DataFrameGroupBy(\n\u001b[1;32m   8253\u001b[0m     obj\u001b[39m=\u001b[39;49m\u001b[39mself\u001b[39;49m,\n\u001b[1;32m   8254\u001b[0m     keys\u001b[39m=\u001b[39;49mby,\n\u001b[1;32m   8255\u001b[0m     axis\u001b[39m=\u001b[39;49maxis,\n\u001b[1;32m   8256\u001b[0m     level\u001b[39m=\u001b[39;49mlevel,\n\u001b[1;32m   8257\u001b[0m     as_index\u001b[39m=\u001b[39;49mas_index,\n\u001b[1;32m   8258\u001b[0m     sort\u001b[39m=\u001b[39;49msort,\n\u001b[1;32m   8259\u001b[0m     group_keys\u001b[39m=\u001b[39;49mgroup_keys,\n\u001b[1;32m   8260\u001b[0m     observed\u001b[39m=\u001b[39;49mobserved,\n\u001b[1;32m   8261\u001b[0m     dropna\u001b[39m=\u001b[39;49mdropna,\n\u001b[1;32m   8262\u001b[0m )\n",
      "File \u001b[0;32m/home/local/jmminkin/git/kivepa-booksearch-workshop/venv/lib/python3.8/site-packages/pandas/core/groupby/groupby.py:931\u001b[0m, in \u001b[0;36mGroupBy.__init__\u001b[0;34m(self, obj, keys, axis, level, grouper, exclusions, selection, as_index, sort, group_keys, observed, dropna)\u001b[0m\n\u001b[1;32m    928\u001b[0m \u001b[39mself\u001b[39m\u001b[39m.\u001b[39mdropna \u001b[39m=\u001b[39m dropna\n\u001b[1;32m    930\u001b[0m \u001b[39mif\u001b[39;00m grouper \u001b[39mis\u001b[39;00m \u001b[39mNone\u001b[39;00m:\n\u001b[0;32m--> 931\u001b[0m     grouper, exclusions, obj \u001b[39m=\u001b[39m get_grouper(\n\u001b[1;32m    932\u001b[0m         obj,\n\u001b[1;32m    933\u001b[0m         keys,\n\u001b[1;32m    934\u001b[0m         axis\u001b[39m=\u001b[39;49maxis,\n\u001b[1;32m    935\u001b[0m         level\u001b[39m=\u001b[39;49mlevel,\n\u001b[1;32m    936\u001b[0m         sort\u001b[39m=\u001b[39;49msort,\n\u001b[1;32m    937\u001b[0m         observed\u001b[39m=\u001b[39;49mobserved,\n\u001b[1;32m    938\u001b[0m         dropna\u001b[39m=\u001b[39;49m\u001b[39mself\u001b[39;49m\u001b[39m.\u001b[39;49mdropna,\n\u001b[1;32m    939\u001b[0m     )\n\u001b[1;32m    941\u001b[0m \u001b[39mself\u001b[39m\u001b[39m.\u001b[39mobj \u001b[39m=\u001b[39m obj\n\u001b[1;32m    942\u001b[0m \u001b[39mself\u001b[39m\u001b[39m.\u001b[39maxis \u001b[39m=\u001b[39m obj\u001b[39m.\u001b[39m_get_axis_number(axis)\n",
      "File \u001b[0;32m/home/local/jmminkin/git/kivepa-booksearch-workshop/venv/lib/python3.8/site-packages/pandas/core/groupby/grouper.py:985\u001b[0m, in \u001b[0;36mget_grouper\u001b[0;34m(obj, key, axis, level, sort, observed, validate, dropna)\u001b[0m\n\u001b[1;32m    983\u001b[0m         in_axis, level, gpr \u001b[39m=\u001b[39m \u001b[39mFalse\u001b[39;00m, gpr, \u001b[39mNone\u001b[39;00m\n\u001b[1;32m    984\u001b[0m     \u001b[39melse\u001b[39;00m:\n\u001b[0;32m--> 985\u001b[0m         \u001b[39mraise\u001b[39;00m \u001b[39mKeyError\u001b[39;00m(gpr)\n\u001b[1;32m    986\u001b[0m \u001b[39melif\u001b[39;00m \u001b[39misinstance\u001b[39m(gpr, Grouper) \u001b[39mand\u001b[39;00m gpr\u001b[39m.\u001b[39mkey \u001b[39mis\u001b[39;00m \u001b[39mnot\u001b[39;00m \u001b[39mNone\u001b[39;00m:\n\u001b[1;32m    987\u001b[0m     \u001b[39m# Add key to exclusions\u001b[39;00m\n\u001b[1;32m    988\u001b[0m     exclusions\u001b[39m.\u001b[39madd(gpr\u001b[39m.\u001b[39mkey)\n",
      "\u001b[0;31mKeyError\u001b[0m: 'labels_set'"
     ]
    }
   ],
   "source": [
    "df.groupby(by=\"labels_set\").agg(\n",
    "    {\n",
    "        \"is_found\": \"mean\",\n",
    "        \"duration_to_find\": \"mean\",\n",
    "        \"duration_to_abandon\": \"mean\",\n",
    "    }\n",
    ")"
   ]
  },
  {
   "cell_type": "code",
   "execution_count": null,
   "metadata": {},
   "outputs": [],
   "source": []
  }
 ],
 "metadata": {
  "kernelspec": {
   "display_name": "venv",
   "language": "python",
   "name": "python3"
  },
  "language_info": {
   "codemirror_mode": {
    "name": "ipython",
    "version": 3
   },
   "file_extension": ".py",
   "mimetype": "text/x-python",
   "name": "python",
   "nbconvert_exporter": "python",
   "pygments_lexer": "ipython3",
   "version": "3.8.10"
  },
  "orig_nbformat": 4
 },
 "nbformat": 4,
 "nbformat_minor": 2
}
